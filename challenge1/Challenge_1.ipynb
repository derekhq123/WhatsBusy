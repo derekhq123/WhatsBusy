{
 "cells": [
  {
   "cell_type": "code",
   "execution_count": 1,
   "metadata": {},
   "outputs": [],
   "source": [
    "class MoneyBox:\n",
    "    number_of_coins=0\n",
    "    capacity=0\n",
    "    def __init__(self, capacity):\n",
    "        self.capacity=capacity\n",
    "\n",
    "\n",
    "    def can_add(self, v):\n",
    "        \n",
    "        if self.number_of_coins+v<=self.capacity:\n",
    "            \n",
    "            return True\n",
    "        else:\n",
    "            return False\n",
    "    def add(self, v):\n",
    "        \n",
    "        if self.can_add(v):\n",
    "            self.number_of_coins+=v\n",
    "        "
   ]
  },
  {
   "cell_type": "code",
   "execution_count": null,
   "metadata": {},
   "outputs": [],
   "source": []
  }
 ],
 "metadata": {
  "kernelspec": {
   "display_name": "Python 3",
   "language": "python",
   "name": "python3"
  },
  "language_info": {
   "codemirror_mode": {
    "name": "ipython",
    "version": 3
   },
   "file_extension": ".py",
   "mimetype": "text/x-python",
   "name": "python",
   "nbconvert_exporter": "python",
   "pygments_lexer": "ipython3",
   "version": "3.5.6"
  }
 },
 "nbformat": 4,
 "nbformat_minor": 2
}
